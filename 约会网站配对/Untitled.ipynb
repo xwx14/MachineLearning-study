{
 "cells": [
  {
   "cell_type": "markdown",
   "metadata": {},
   "source": [
    "读取文件"
   ]
  },
  {
   "cell_type": "code",
   "execution_count": null,
   "metadata": {},
   "outputs": [],
   "source": [
    "import numpy as np\n",
    "import pandas as pd\n",
    "import matplotlib.pyplot as plt\n",
    "\n",
    "def ReadFile(filename):\n",
    "    f=open(filename)\n",
    "    Lines=f.readlines()\n",
    "    Datas=np.zeros((len(Lines),3))\n",
    "    Labels=[]\n",
    "    for i,line in enumerate(Lines):\n",
    "        line=line.strip()\n",
    "        linedatas=line.split(\"\\t\")\n",
    "        Datas[i,:]=linedatas[0:3]\n",
    "        Labels.append(float(linedatas[-1]))\n",
    "    return Datas,Labels"
   ]
  },
  {
   "cell_type": "markdown",
   "metadata": {},
   "source": [
    "绘制示意图的函数"
   ]
  },
  {
   "cell_type": "code",
   "execution_count": null,
   "metadata": {},
   "outputs": [],
   "source": [
    "def ShowDatasByScatter(Datas,Labels,i,j,xLabel=\"\",yLabel=\"\"):\n",
    "    plt.figure()\n",
    "    plt.scatter(Datas[:,i],Datas[:,j],15.0*np.array(Labels),15.0*np.array(Labels))\n",
    "    plt.xlabel(xLabel,fontproperties=\"SimHei\")\n",
    "    plt.ylabel(yLabel,fontproperties=\"SimHei\")\n",
    "    plt.show()"
   ]
  },
  {
   "cell_type": "code",
   "execution_count": null,
   "metadata": {},
   "outputs": [],
   "source": [
    "datas,labels=ReadFile(\"datingTestSet2.txt\")\n",
    "ShowDatasByScatter(datas,labels,1,2,\"游戏时间\",\"消费冰激凌\")"
   ]
  },
  {
   "cell_type": "code",
   "execution_count": null,
   "metadata": {},
   "outputs": [],
   "source": []
  }
 ],
 "metadata": {
  "kernelspec": {
   "display_name": "Python3-64bit",
   "language": "python",
   "name": "python3-64bit"
  }
 },
 "nbformat": 4,
 "nbformat_minor": 2
}
