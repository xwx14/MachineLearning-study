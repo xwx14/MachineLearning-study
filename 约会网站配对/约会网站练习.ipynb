{
 "cells": [
  {
   "cell_type": "markdown",
   "metadata": {},
   "source": [
    "导入所需库"
   ]
  },
  {
   "cell_type": "code",
   "execution_count": null,
   "metadata": {},
   "outputs": [],
   "source": [
    "import numpy as np\n",
    "import matplotlib.pyplot as plt"
   ]
  },
  {
   "cell_type": "markdown",
   "metadata": {},
   "source": [
    "读取文件所用函数的定义，优化处：改为用enumerate做循环，使代码更简洁"
   ]
  },
  {
   "cell_type": "code",
   "execution_count": null,
   "metadata": {},
   "outputs": [],
   "source": [
    "def ReadFile(filename):\n",
    "    f=open(filename)\n",
    "    Lines=f.readlines()\n",
    "    Datas=np.zeros((len(Lines),3))\n",
    "    Labels=[]\n",
    "    for i,line in enumerate(Lines):\n",
    "        line=line.strip()\n",
    "        linedatas=line.split(\"\\t\")\n",
    "        Datas[i,:]=linedatas[0:3]\n",
    "        Labels.append(float(linedatas[-1]))\n",
    "    return Datas,Labels"
   ]
  },
  {
   "cell_type": "markdown",
   "metadata": {},
   "source": [
    "绘制示意图所需代码，优化：改为一个函数，并加上x,y轴的标签"
   ]
  },
  {
   "cell_type": "code",
   "execution_count": null,
   "metadata": {},
   "outputs": [],
   "source": [
    "def ShowDatasByScatter(Datas,Labels,i,j,xLabel=\"\",yLabel=\"\"):\n",
    "    plt.figure()\n",
    "    plt.scatter(Datas[:,i],Datas[:,j],15.0*np.array(Labels),15.0*np.array(Labels))\n",
    "    plt.xlabel(xLabel,fontproperties=\"SimHei\")\n",
    "    plt.ylabel(yLabel,fontproperties=\"SimHei\")\n",
    "    plt.show()"
   ]
  }
 ],
 "metadata": {
  "kernelspec": {
   "display_name": "Python 3",
   "language": "python",
   "name": "python3"
  },
  "language_info": {
   "codemirror_mode": {
    "name": "ipython",
    "version": 3
   },
   "file_extension": ".py",
   "mimetype": "text/x-python",
   "name": "python",
   "nbconvert_exporter": "python",
   "pygments_lexer": "ipython3",
   "version": "3.6.5"
  }
 },
 "nbformat": 4,
 "nbformat_minor": 2
}
