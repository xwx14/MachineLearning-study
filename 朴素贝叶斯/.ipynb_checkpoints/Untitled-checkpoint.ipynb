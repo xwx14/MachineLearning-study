{
 "cells": [
  {
   "cell_type": "code",
   "execution_count": 1,
   "metadata": {},
   "outputs": [],
   "source": [
    "import pandas as pd"
   ]
  },
  {
   "cell_type": "markdown",
   "metadata": {},
   "source": [
    "用于计算概率的函数，trainM为训练矩阵，用DataFrame包装起来，labelCol为标签列，testLabel为所计算的标签值"
   ]
  },
  {
   "cell_type": "code",
   "execution_count": 4,
   "metadata": {},
   "outputs": [
    {
     "ename": "SyntaxError",
     "evalue": "invalid syntax (<ipython-input-4-c696268f0eae>, line 13)",
     "output_type": "error",
     "traceback": [
      "\u001b[1;36m  File \u001b[1;32m\"<ipython-input-4-c696268f0eae>\"\u001b[1;36m, line \u001b[1;32m13\u001b[0m\n\u001b[1;33m    else:\u001b[0m\n\u001b[1;37m       ^\u001b[0m\n\u001b[1;31mSyntaxError\u001b[0m\u001b[1;31m:\u001b[0m invalid syntax\n"
     ]
    }
   ],
   "source": [
    "def trainB(trainM,labelCol,testLabel):\n",
    "    n = trainM.shape[0]\n",
    "    p_in = 1 / n\n",
    "    n_f=trainM.shape[1]\n",
    "    p_dict={}\n",
    "    labels=trainM[labelCol]\n",
    "    for prop in trainM:\n",
    "        if prop!=labelCol:\n",
    "            p_dict0={}\n",
    "            for i,x in enumerate(trainM[prop]):\n",
    "                 if x in p_dict0.keys():\n",
    "                        p_dict0[x][1] += 1\n",
    "                        else:\n",
    "                        p_dict0[x] = [0,1]\n",
    "                if labels[i]==testLabel:\n",
    "                        p_dict0[x]+=1\n",
    "                   \n",
    "            p_dict[prop]=p_dict0\n",
    "    return p_dict\n"
   ]
  },
  {
   "cell_type": "code",
   "execution_count": 12,
   "metadata": {},
   "outputs": [
    {
     "data": {
      "text/html": [
       "<div>\n",
       "<style scoped>\n",
       "    .dataframe tbody tr th:only-of-type {\n",
       "        vertical-align: middle;\n",
       "    }\n",
       "\n",
       "    .dataframe tbody tr th {\n",
       "        vertical-align: top;\n",
       "    }\n",
       "\n",
       "    .dataframe thead th {\n",
       "        text-align: right;\n",
       "    }\n",
       "</style>\n",
       "<table border=\"1\" class=\"dataframe\">\n",
       "  <thead>\n",
       "    <tr style=\"text-align: right;\">\n",
       "      <th></th>\n",
       "      <th>X1</th>\n",
       "    </tr>\n",
       "  </thead>\n",
       "  <tbody>\n",
       "    <tr>\n",
       "      <th>1</th>\n",
       "      <td>1</td>\n",
       "    </tr>\n",
       "  </tbody>\n",
       "</table>\n",
       "</div>"
      ],
      "text/plain": [
       "   X1\n",
       "1   1"
      ]
     },
     "execution_count": 12,
     "metadata": {},
     "output_type": "execute_result"
    }
   ],
   "source": [
    "if __name__ == '__main__':\n",
    "    trainM = pd.DataFrame({\"X1\": [1] * 5 + [2] * 6 + [3] * 5,\n",
    "                           \"X2\": ['S', 'L', 'M', 'M', 'S', 'L', 'S', 'S', 'L', 'L', 'M', 'M', 'L', 'S', 'M', 'M'],\n",
    "                           \"Label\":[-1,1,1,-1,-1,1,1,-1,1,-1,1,1,1,1,-1,1]})\n",
    "    p_dict1=trainB(trainM,\"Label\",1)\n",
    "    p_dict2 = trainB(trainM, \"Label\", -1)\n",
    "    a=1"
   ]
  },
  {
   "cell_type": "code",
   "execution_count": null,
   "metadata": {},
   "outputs": [],
   "source": []
  }
 ],
 "metadata": {
  "kernelspec": {
   "display_name": "Python 3",
   "language": "python",
   "name": "python3"
  },
  "language_info": {
   "codemirror_mode": {
    "name": "ipython",
    "version": 3
   },
   "file_extension": ".py",
   "mimetype": "text/x-python",
   "name": "python",
   "nbconvert_exporter": "python",
   "pygments_lexer": "ipython3",
   "version": "3.6.5"
  }
 },
 "nbformat": 4,
 "nbformat_minor": 2
}
