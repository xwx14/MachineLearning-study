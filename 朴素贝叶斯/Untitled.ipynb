{
 "cells": [
  {
   "cell_type": "code",
   "execution_count": 1,
   "metadata": {},
   "outputs": [],
   "source": [
    "import pandas as pd"
   ]
  },
  {
   "cell_type": "markdown",
   "metadata": {},
   "source": [
    "用于计数的函数，trainM为训练矩阵，用DataFrame包装起来，labelCol为标签列，testLabel为所计算的标签值"
   ]
  },
  {
   "cell_type": "code",
   "execution_count": 19,
   "metadata": {},
   "outputs": [],
   "source": [
    "def trainB(trainM,labelCol,testLabel):\n",
    "    n = trainM.shape[0]\n",
    "    p_in = 1 / n\n",
    "    n_f=trainM.shape[1]\n",
    "    p_dict={}\n",
    "    n_t=-1\n",
    "   \n",
    "    labels=trainM[labelCol]\n",
    "    for prop in trainM:\n",
    "        if prop!=labelCol:\n",
    "            p_dict0={}\n",
    "            n_t=0\n",
    "            for i,x in enumerate(trainM[prop]):\n",
    "                 if x in p_dict0.keys():\n",
    "                        p_dict0[x][1] += 1\n",
    "                 else:\n",
    "                        p_dict0[x] = [0,1]\n",
    "                 if labels[i]==testLabel:\n",
    "                    p_dict0[x][0]+=1\n",
    "                    n_t+=1\n",
    "                   \n",
    "            p_dict[prop]=p_dict0\n",
    "    return p_dict,n_t\n"
   ]
  },
  {
   "cell_type": "code",
   "execution_count": 20,
   "metadata": {},
   "outputs": [
    {
     "name": "stdout",
     "output_type": "stream",
     "text": [
      "{'X1': {1: [2, 5], 2: [4, 6], 3: [4, 5]}, 'X2': {'S': [2, 5], 'L': [4, 5], 'M': [4, 6]}} 10\n",
      "{'X1': {1: [3, 5], 2: [2, 6], 3: [1, 5]}, 'X2': {'S': [3, 5], 'L': [1, 5], 'M': [2, 6]}} 6\n"
     ]
    }
   ],
   "source": [
    "if __name__ == '__main__':\n",
    "    trainM = pd.DataFrame({\"X1\": [1] * 5 + [2] * 6 + [3] * 5,\n",
    "                           \"X2\": ['S', 'L', 'M', 'M', 'S', 'L', 'S', 'S', 'L', 'L', 'M', 'M', 'L', 'S', 'M', 'M'],\n",
    "                           \"Label\":[-1,1,1,-1,-1,1,1,-1,1,-1,1,1,1,1,-1,1]})\n",
    "    p_dict1,n_1=trainB(trainM,\"Label\",1)\n",
    "    p_dict2,n_2 = trainB(trainM, \"Label\", -1)\n",
    "    print(p_dict1,n_1)\n",
    "    print(p_dict2,n_2)"
   ]
  },
  {
   "cell_type": "markdown",
   "metadata": {},
   "source": [
    "由计算可知，    \n",
    "$P(Y=1)=5/8$ ,$P(Y=-1)=3/8$      \n",
    "$P(X1=2|Y=1)=0.4$ ,$P(X1=2|Y=-1)=1/3$    \n",
    "$P(X2=S|Y=1)=0.2$ ,$P(X2=S|Y=-1)=1/2$\n",
    "则，  \n",
    "$P(Y=1)*P(X1=2|Y=1)*P(X2=S|Y=1)=0.05$\n",
    "$P(Y=-1)*P(X1=2|Y=-1)*P(X2=S|Y=-1)=0.0625$\n",
    "故分为“-1”类"
   ]
  },
  {
   "cell_type": "code",
   "execution_count": null,
   "metadata": {},
   "outputs": [],
   "source": []
  }
 ],
 "metadata": {
  "kernelspec": {
   "display_name": "Python 3",
   "language": "python",
   "name": "python3"
  },
  "language_info": {
   "codemirror_mode": {
    "name": "ipython",
    "version": 3
   },
   "file_extension": ".py",
   "mimetype": "text/x-python",
   "name": "python",
   "nbconvert_exporter": "python",
   "pygments_lexer": "ipython3",
   "version": "3.6.5"
  }
 },
 "nbformat": 4,
 "nbformat_minor": 2
}
